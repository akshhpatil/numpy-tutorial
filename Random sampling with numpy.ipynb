{
 "cells": [
  {
   "cell_type": "markdown",
   "id": "acting-pierce",
   "metadata": {},
   "source": [
    "# Random sampling with numpy"
   ]
  },
  {
   "cell_type": "code",
   "execution_count": 2,
   "id": "fatty-communications",
   "metadata": {},
   "outputs": [],
   "source": [
    "import numpy as np\n",
    "import random"
   ]
  },
  {
   "cell_type": "code",
   "execution_count": 15,
   "id": "dimensional-stadium",
   "metadata": {},
   "outputs": [],
   "source": [
    "x = np.random.random(1)   #random.ramdom its give value between 0 to 1 always"
   ]
  },
  {
   "cell_type": "code",
   "execution_count": 14,
   "id": "hollywood-architecture",
   "metadata": {},
   "outputs": [
    {
     "data": {
      "text/plain": [
       "array([0.28542817])"
      ]
     },
     "execution_count": 14,
     "metadata": {},
     "output_type": "execute_result"
    }
   ],
   "source": [
    "x"
   ]
  },
  {
   "cell_type": "code",
   "execution_count": 17,
   "id": "backed-unemployment",
   "metadata": {},
   "outputs": [
    {
     "data": {
      "text/plain": [
       "array([[0.64613047, 0.2325827 , 0.82635793],\n",
       "       [0.24334601, 0.65974963, 0.81303537],\n",
       "       [0.68043619, 0.29819406, 0.71325221]])"
      ]
     },
     "execution_count": 17,
     "metadata": {},
     "output_type": "execute_result"
    }
   ],
   "source": [
    "np.random.random((3,3))         #3 rows 3 columns "
   ]
  },
  {
   "cell_type": "code",
   "execution_count": 24,
   "id": "competitive-lewis",
   "metadata": {},
   "outputs": [
    {
     "data": {
      "text/plain": [
       "3"
      ]
     },
     "execution_count": 24,
     "metadata": {},
     "output_type": "execute_result"
    }
   ],
   "source": [
    "np.random.randint(1,4)     # single value (1,4) range"
   ]
  },
  {
   "cell_type": "code",
   "execution_count": 26,
   "id": "protecting-ethics",
   "metadata": {},
   "outputs": [
    {
     "data": {
      "text/plain": [
       "array([[1, 7, 1, 4],\n",
       "       [9, 7, 5, 4],\n",
       "       [3, 1, 1, 7],\n",
       "       [7, 5, 9, 5]])"
      ]
     },
     "execution_count": 26,
     "metadata": {},
     "output_type": "execute_result"
    }
   ],
   "source": [
    "np.random.randint(1,10 , (4,4))"
   ]
  },
  {
   "cell_type": "code",
   "execution_count": 27,
   "id": "separate-registration",
   "metadata": {},
   "outputs": [
    {
     "data": {
      "text/plain": [
       "array([[5, 1, 2, 1],\n",
       "       [2, 9, 1, 9],\n",
       "       [7, 5, 4, 1],\n",
       "       [5, 7, 9, 2]])"
      ]
     },
     "execution_count": 27,
     "metadata": {},
     "output_type": "execute_result"
    }
   ],
   "source": [
    "np.random.seed(10)\n",
    "np.random.randint(1,10 , (4,4))"
   ]
  },
  {
   "cell_type": "code",
   "execution_count": 28,
   "id": "convenient-savings",
   "metadata": {},
   "outputs": [
    {
     "data": {
      "text/plain": [
       "array([[5, 1, 2, 1],\n",
       "       [2, 9, 1, 9],\n",
       "       [7, 5, 4, 1],\n",
       "       [5, 7, 9, 2]])"
      ]
     },
     "execution_count": 28,
     "metadata": {},
     "output_type": "execute_result"
    }
   ],
   "source": [
    "np.random.seed(10)\n",
    "np.random.randint(1,10 , (4,4))"
   ]
  },
  {
   "cell_type": "code",
   "execution_count": 29,
   "id": "passive-pavilion",
   "metadata": {},
   "outputs": [
    {
     "data": {
      "text/plain": [
       "array([[0.72175532, 0.29187607, 0.91777412],\n",
       "       [0.71457578, 0.54254437, 0.14217005],\n",
       "       [0.37334076, 0.67413362, 0.44183317]])"
      ]
     },
     "execution_count": 29,
     "metadata": {},
     "output_type": "execute_result"
    }
   ],
   "source": [
    "np.random.rand(3,3)"
   ]
  },
  {
   "cell_type": "code",
   "execution_count": 31,
   "id": "documentary-petite",
   "metadata": {},
   "outputs": [
    {
     "data": {
      "text/plain": [
       "array([[-0.26854813, -0.66630197, -0.34401183],\n",
       "       [ 0.80705192,  2.14180538, -0.49561818],\n",
       "       [ 0.52563742, -0.38964647,  0.9372965 ]])"
      ]
     },
     "execution_count": 31,
     "metadata": {},
     "output_type": "execute_result"
    }
   ],
   "source": [
    "np.random.randn(3,3)     #randn gives negative nd positive values"
   ]
  },
  {
   "cell_type": "code",
   "execution_count": 41,
   "id": "progressive-philip",
   "metadata": {},
   "outputs": [
    {
     "data": {
      "text/plain": [
       "3"
      ]
     },
     "execution_count": 41,
     "metadata": {},
     "output_type": "execute_result"
    }
   ],
   "source": [
    "x = [1,2,3,4]\n",
    "np.random.choice(x)       \n"
   ]
  },
  {
   "cell_type": "code",
   "execution_count": 42,
   "id": "owned-humor",
   "metadata": {},
   "outputs": [
    {
     "data": {
      "text/plain": [
       "array([2, 4, 3, 1])"
      ]
     },
     "execution_count": 42,
     "metadata": {},
     "output_type": "execute_result"
    }
   ],
   "source": [
    "np.random.permutation(x)   "
   ]
  },
  {
   "cell_type": "code",
   "execution_count": null,
   "id": "practical-louisville",
   "metadata": {},
   "outputs": [],
   "source": []
  },
  {
   "cell_type": "code",
   "execution_count": null,
   "id": "completed-austria",
   "metadata": {},
   "outputs": [],
   "source": []
  },
  {
   "cell_type": "code",
   "execution_count": null,
   "id": "rocky-penetration",
   "metadata": {},
   "outputs": [],
   "source": []
  },
  {
   "cell_type": "code",
   "execution_count": null,
   "id": "indian-stage",
   "metadata": {},
   "outputs": [],
   "source": []
  }
 ],
 "metadata": {
  "kernelspec": {
   "display_name": "Python 3",
   "language": "python",
   "name": "python3"
  },
  "language_info": {
   "codemirror_mode": {
    "name": "ipython",
    "version": 3
   },
   "file_extension": ".py",
   "mimetype": "text/x-python",
   "name": "python",
   "nbconvert_exporter": "python",
   "pygments_lexer": "ipython3",
   "version": "3.9.0"
  }
 },
 "nbformat": 4,
 "nbformat_minor": 5
}
