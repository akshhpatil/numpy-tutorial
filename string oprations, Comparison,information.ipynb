{
 "cells": [
  {
   "cell_type": "markdown",
   "id": "cooperative-tracker",
   "metadata": {},
   "source": [
    "# string oprations, Comparison,information "
   ]
  },
  {
   "cell_type": "code",
   "execution_count": 1,
   "id": "architectural-taylor",
   "metadata": {},
   "outputs": [],
   "source": [
    "import numpy as np"
   ]
  },
  {
   "cell_type": "code",
   "execution_count": 2,
   "id": "employed-commission",
   "metadata": {},
   "outputs": [],
   "source": [
    "str1 = \"Akshay Sanjay Patil \"\n",
    "str2 = \"patil\""
   ]
  },
  {
   "cell_type": "code",
   "execution_count": 3,
   "id": "emotional-israeli",
   "metadata": {},
   "outputs": [
    {
     "data": {
      "text/plain": [
       "array('Akshay Sanjay Patil patil', dtype='<U25')"
      ]
     },
     "execution_count": 3,
     "metadata": {},
     "output_type": "execute_result"
    }
   ],
   "source": [
    "#Add Two string \n",
    "\n",
    "np.char.add(str1 ,str2)   "
   ]
  },
  {
   "cell_type": "code",
   "execution_count": 4,
   "id": "polished-aquarium",
   "metadata": {},
   "outputs": [
    {
     "data": {
      "text/plain": [
       "array('akshay sanjay patil ', dtype='<U20')"
      ]
     },
     "execution_count": 4,
     "metadata": {},
     "output_type": "execute_result"
    }
   ],
   "source": [
    "np.char.lower(str1)    #make string in lower case"
   ]
  },
  {
   "cell_type": "code",
   "execution_count": 5,
   "id": "serious-married",
   "metadata": {},
   "outputs": [
    {
     "data": {
      "text/plain": [
       "array('AKSHAY SANJAY PATIL ', dtype='<U20')"
      ]
     },
     "execution_count": 5,
     "metadata": {},
     "output_type": "execute_result"
    }
   ],
   "source": [
    "np.char.upper(str1) "
   ]
  },
  {
   "cell_type": "code",
   "execution_count": 6,
   "id": "visible-ethics",
   "metadata": {},
   "outputs": [
    {
     "data": {
      "text/plain": [
       "array('                    Akshay Sanjay Patil                     ',\n",
       "      dtype='<U60')"
      ]
     },
     "execution_count": 6,
     "metadata": {},
     "output_type": "execute_result"
    }
   ],
   "source": [
    "np.char.center(str1 ,60)"
   ]
  },
  {
   "cell_type": "code",
   "execution_count": 7,
   "id": "periodic-acting",
   "metadata": {},
   "outputs": [
    {
     "data": {
      "text/plain": [
       "array('********************Akshay Sanjay Patil ********************',\n",
       "      dtype='<U60')"
      ]
     },
     "execution_count": 7,
     "metadata": {},
     "output_type": "execute_result"
    }
   ],
   "source": [
    "np.char.center(str1 ,60 , fillchar =\"*\")"
   ]
  },
  {
   "cell_type": "code",
   "execution_count": 8,
   "id": "valid-smell",
   "metadata": {},
   "outputs": [
    {
     "data": {
      "text/plain": [
       "array(list(['Akshay', 'Sanjay', 'Patil']), dtype=object)"
      ]
     },
     "execution_count": 8,
     "metadata": {},
     "output_type": "execute_result"
    }
   ],
   "source": [
    "np.char.split(str1)      # split string"
   ]
  },
  {
   "cell_type": "code",
   "execution_count": 9,
   "id": "bronze-guard",
   "metadata": {},
   "outputs": [
    {
     "data": {
      "text/plain": [
       "array(list(['hello', 'patil']), dtype=object)"
      ]
     },
     "execution_count": 9,
     "metadata": {},
     "output_type": "execute_result"
    }
   ],
   "source": [
    "np.char.splitlines(\"hello\\npatil\")"
   ]
  },
  {
   "cell_type": "code",
   "execution_count": 13,
   "id": "identified-favorite",
   "metadata": {},
   "outputs": [],
   "source": [
    "str3 = \"dmy\"\n",
    "str4 = \"dmy\""
   ]
  },
  {
   "cell_type": "code",
   "execution_count": 14,
   "id": "polar-registration",
   "metadata": {},
   "outputs": [
    {
     "data": {
      "text/plain": [
       "array(['d:m:y', 'd/m/y'], dtype='<U5')"
      ]
     },
     "execution_count": 14,
     "metadata": {},
     "output_type": "execute_result"
    }
   ],
   "source": [
    "np.char.join([\":\",\"/\"],[str3,str4])"
   ]
  },
  {
   "cell_type": "code",
   "execution_count": 20,
   "id": "introductory-camera",
   "metadata": {},
   "outputs": [
    {
     "data": {
      "text/plain": [
       "array(' good morning', dtype='<U13')"
      ]
     },
     "execution_count": 20,
     "metadata": {},
     "output_type": "execute_result"
    }
   ],
   "source": [
    "np.char.replace(str2, \"patil\" , \" good morning\") "
   ]
  },
  {
   "cell_type": "code",
   "execution_count": 23,
   "id": "civic-norwegian",
   "metadata": {},
   "outputs": [
    {
     "data": {
      "text/plain": [
       "array(True)"
      ]
     },
     "execution_count": 23,
     "metadata": {},
     "output_type": "execute_result"
    }
   ],
   "source": [
    "np.char.equal(str3,str4)"
   ]
  },
  {
   "cell_type": "raw",
   "id": "secondary-salem",
   "metadata": {},
   "source": []
  },
  {
   "cell_type": "code",
   "execution_count": 25,
   "id": "lonely-headset",
   "metadata": {},
   "outputs": [
    {
     "data": {
      "text/plain": [
       "array(4)"
      ]
     },
     "execution_count": 25,
     "metadata": {},
     "output_type": "execute_result"
    }
   ],
   "source": [
    "np.char.count(str1 ,\"a\")      #count character in string"
   ]
  },
  {
   "cell_type": "code",
   "execution_count": 28,
   "id": "enhanced-egyptian",
   "metadata": {},
   "outputs": [
    {
     "data": {
      "text/plain": [
       "array(0)"
      ]
     },
     "execution_count": 28,
     "metadata": {},
     "output_type": "execute_result"
    }
   ],
   "source": [
    "np.char.find(str1 ,\"Akshay\")"
   ]
  },
  {
   "cell_type": "code",
   "execution_count": null,
   "id": "compliant-compact",
   "metadata": {},
   "outputs": [],
   "source": []
  }
 ],
 "metadata": {
  "kernelspec": {
   "display_name": "Python 3",
   "language": "python",
   "name": "python3"
  },
  "language_info": {
   "codemirror_mode": {
    "name": "ipython",
    "version": 3
   },
   "file_extension": ".py",
   "mimetype": "text/x-python",
   "name": "python",
   "nbconvert_exporter": "python",
   "pygments_lexer": "ipython3",
   "version": "3.9.0"
  }
 },
 "nbformat": 4,
 "nbformat_minor": 5
}
